{
  "nbformat": 4,
  "nbformat_minor": 0,
  "metadata": {
    "colab": {
      "provenance": [],
      "authorship_tag": "ABX9TyNiYMkTKxQXEV9H5s/1WHdH",
      "include_colab_link": true
    },
    "kernelspec": {
      "name": "python3",
      "display_name": "Python 3"
    },
    "language_info": {
      "name": "python"
    }
  },
  "cells": [
    {
      "cell_type": "markdown",
      "metadata": {
        "id": "view-in-github",
        "colab_type": "text"
      },
      "source": [
        "<a href=\"https://colab.research.google.com/github/Sumitmathur12/SUMIT-PROJECT/blob/main/DYANMIC_ARRAY.ipynb\" target=\"_parent\"><img src=\"https://colab.research.google.com/assets/colab-badge.svg\" alt=\"Open In Colab\"/></a>"
      ]
    },
    {
      "cell_type": "code",
      "execution_count": null,
      "metadata": {
        "id": "wgiFk0fmNOz2"
      },
      "outputs": [],
      "source": [
        "import sys\n"
      ]
    },
    {
      "cell_type": "code",
      "source": [],
      "metadata": {
        "id": "4Xq-BafUezer"
      },
      "execution_count": null,
      "outputs": []
    },
    {
      "cell_type": "code",
      "source": [],
      "metadata": {
        "id": "3tOCsz4re2iK"
      },
      "execution_count": null,
      "outputs": []
    },
    {
      "cell_type": "code",
      "source": [
        "l = []\n",
        "sys.getsizeof(l)"
      ],
      "metadata": {
        "colab": {
          "base_uri": "https://localhost:8080/"
        },
        "id": "f6UNu1mWNqyJ",
        "outputId": "633551a6-2589-4ca6-a940-e7ceb8b91be6"
      },
      "execution_count": null,
      "outputs": [
        {
          "output_type": "execute_result",
          "data": {
            "text/plain": [
              "56"
            ]
          },
          "metadata": {},
          "execution_count": 3
        }
      ]
    },
    {
      "cell_type": "markdown",
      "source": [],
      "metadata": {
        "id": "GVXA5rToOKCS"
      }
    },
    {
      "cell_type": "code",
      "source": [
        "\n",
        "l = []\n",
        "for i in range(100):\n",
        "  print(i ,sys.getsizeof(l))\n",
        "  l.append(i)\n"
      ],
      "metadata": {
        "colab": {
          "base_uri": "https://localhost:8080/"
        },
        "id": "5ex6DPjyONEc",
        "outputId": "367a3561-686e-444a-e124-f25c7626118e"
      },
      "execution_count": null,
      "outputs": [
        {
          "output_type": "stream",
          "name": "stdout",
          "text": [
            "0 56\n",
            "1 88\n",
            "2 88\n",
            "3 88\n",
            "4 88\n",
            "5 120\n",
            "6 120\n",
            "7 120\n",
            "8 120\n",
            "9 184\n",
            "10 184\n",
            "11 184\n",
            "12 184\n",
            "13 184\n",
            "14 184\n",
            "15 184\n",
            "16 184\n",
            "17 248\n",
            "18 248\n",
            "19 248\n",
            "20 248\n",
            "21 248\n",
            "22 248\n",
            "23 248\n",
            "24 248\n",
            "25 312\n",
            "26 312\n",
            "27 312\n",
            "28 312\n",
            "29 312\n",
            "30 312\n",
            "31 312\n",
            "32 312\n",
            "33 376\n",
            "34 376\n",
            "35 376\n",
            "36 376\n",
            "37 376\n",
            "38 376\n",
            "39 376\n",
            "40 376\n",
            "41 472\n",
            "42 472\n",
            "43 472\n",
            "44 472\n",
            "45 472\n",
            "46 472\n",
            "47 472\n",
            "48 472\n",
            "49 472\n",
            "50 472\n",
            "51 472\n",
            "52 472\n",
            "53 568\n",
            "54 568\n",
            "55 568\n",
            "56 568\n",
            "57 568\n",
            "58 568\n",
            "59 568\n",
            "60 568\n",
            "61 568\n",
            "62 568\n",
            "63 568\n",
            "64 568\n",
            "65 664\n",
            "66 664\n",
            "67 664\n",
            "68 664\n",
            "69 664\n",
            "70 664\n",
            "71 664\n",
            "72 664\n",
            "73 664\n",
            "74 664\n",
            "75 664\n",
            "76 664\n",
            "77 792\n",
            "78 792\n",
            "79 792\n",
            "80 792\n",
            "81 792\n",
            "82 792\n",
            "83 792\n",
            "84 792\n",
            "85 792\n",
            "86 792\n",
            "87 792\n",
            "88 792\n",
            "89 792\n",
            "90 792\n",
            "91 792\n",
            "92 792\n",
            "93 920\n",
            "94 920\n",
            "95 920\n",
            "96 920\n",
            "97 920\n",
            "98 920\n",
            "99 920\n"
          ]
        }
      ]
    },
    {
      "cell_type": "code",
      "source": [
        "import ctypes\n",
        "class Meralist:\n",
        "  def __init__(self):\n",
        "    self.size = 1\n",
        "    self.n = 0\n",
        "    #creating a ctype array with size = self.size\n",
        "    self.A = self.__make_array(self.size)\n",
        "  def __len__(self):\n",
        "    return self.n\n",
        "  def __str__(self):\n",
        "    result = \"\"\n",
        "    for i in range(self.n):\n",
        "      result = result + str(self.A[i])  + \",\"\n",
        "    return '[' + result[:-1] + ']'\n",
        "  def __getitem__(self, index):\n",
        "    if 0 <=index < self.n:\n",
        "      return self.A[index]\n",
        "    else:\n",
        "      return \"IndexError: Index out of range\"\n",
        "  def __delitem__(self, pos):\n",
        "    if 0 <= pos < self.n:\n",
        "      for i in range(pos, self.n-1):\n",
        "        self.A[i] = self.A[i+1]\n",
        "        self.n = self.n - 1\n",
        "\n",
        "  def remove(self,item):\n",
        "    pos = self.find(item)\n",
        "    if type(pos) == int:\n",
        "      self.__delitem__(pos)\n",
        "    else:\n",
        "      return pos\n",
        "\n",
        "\n",
        "  def append(self , item):\n",
        "    if self.size == self.n:\n",
        "      self.__resize(self.size*2)\n",
        "    self.A[self.n]=item\n",
        "    self.n += 1\n",
        "\n",
        "\n",
        "  def pop(self):\n",
        "    if self.n == 0:\n",
        "      return \"empty list\"\n",
        "    print(self.A[self.n - 1])\n",
        "    self.n -= 1\n",
        "\n",
        "  def clear(self):\n",
        "      self.n = 0\n",
        "      self.size = 1\n",
        "\n",
        "  def find(self,item):\n",
        "      for i in range(self.n):\n",
        "        if self.A[i] == item:\n",
        "          return i\n",
        "      return \"value error: not in list\"\n",
        "\n",
        "  def insert(self, pos , item):\n",
        "      if self.n == self.size:\n",
        "        self.__resize(self.size*2)\n",
        "      for i in range(self.n,pos,-1):\n",
        "        self.A[i] = self.A[i-1]\n",
        "      self.A[pos] = item\n",
        "      self.n += 1\n",
        "\n",
        "\n",
        "\n",
        "      #resize\n",
        "  def __resize(self,new_capacity):\n",
        "    B = self.__make_array(new_capacity)\n",
        "    self.size = new_capacity\n",
        "    for i in range(self.n):\n",
        "      B[i] = self.A[i]\n",
        "    self.A = B\n",
        "  def __make_array(self,capacity):\n",
        "    return (capacity * ctypes.py_object)()"
      ],
      "metadata": {
        "id": "RX1vjZ47ONd3"
      },
      "execution_count": 7,
      "outputs": []
    },
    {
      "cell_type": "code",
      "source": [
        "l = Meralist()\n",
        "l.append(1)\n",
        "l.append(2)\n",
        "l.append(3)\n",
        "l.append(4)\n",
        "l.append(5)\n",
        "l.append(6)\n",
        "l.append(7)\n",
        "l.append(8)\n",
        "l.append(9)\n",
        "l.append(10)\n",
        "len(l)\n",
        "print(l)\n",
        "l[2]\n",
        "l.pop()\n",
        "print(l)\n",
        "l.clear()\n",
        "print(l)\n",
        "l.append(1)\n",
        "l.append(2)\n",
        "l.append(3)\n",
        "l.append(4)\n",
        "l.append(5)\n",
        "l.append(\"sumit\")\n",
        "l.append(\"anup\")\n",
        "print(l)\n",
        "l.find(2)\n",
        "l.insert(4,\"nandni\")\n",
        "print(l)\n",
        "del l[2]\n",
        "print(l)\n",
        "l.remove(2)"
      ],
      "metadata": {
        "colab": {
          "base_uri": "https://localhost:8080/"
        },
        "id": "ebzJAYizgEzy",
        "outputId": "0e03471a-a932-440e-8095-1b7e89963848"
      },
      "execution_count": 30,
      "outputs": [
        {
          "output_type": "stream",
          "name": "stdout",
          "text": [
            "[1,2,3,4,5,6,7,8,9,10]\n",
            "10\n",
            "[1,2,3,4,5,6,7,8,9]\n",
            "[]\n",
            "[1,2,3,4,5,sumit,anup]\n",
            "[1,2,3,4,nandni,5,sumit,anup]\n",
            "[1,2,4]\n"
          ]
        }
      ]
    },
    {
      "cell_type": "code",
      "source": [
        "print(l)"
      ],
      "metadata": {
        "colab": {
          "base_uri": "https://localhost:8080/"
        },
        "id": "vIkailRPH2oO",
        "outputId": "732d555b-b0ed-485b-bfbf-7c70990f7071"
      },
      "execution_count": 31,
      "outputs": [
        {
          "output_type": "stream",
          "name": "stdout",
          "text": [
            "[1,4]\n"
          ]
        }
      ]
    }
  ]
}