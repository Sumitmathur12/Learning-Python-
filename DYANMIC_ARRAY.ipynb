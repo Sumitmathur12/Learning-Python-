{
  "nbformat": 4,
  "nbformat_minor": 0,
  "metadata": {
    "colab": {
      "provenance": [],
      "authorship_tag": "ABX9TyMwxoVSp6/tQ06YM2d+q4pd",
      "include_colab_link": true
    },
    "kernelspec": {
      "name": "python3",
      "display_name": "Python 3"
    },
    "language_info": {
      "name": "python"
    }
  },
  "cells": [
    {
      "cell_type": "markdown",
      "metadata": {
        "id": "view-in-github",
        "colab_type": "text"
      },
      "source": [
        "<a href=\"https://colab.research.google.com/github/Sumitmathur12/SUMIT-PROJECT/blob/main/DYANMIC_ARRAY.ipynb\" target=\"_parent\"><img src=\"https://colab.research.google.com/assets/colab-badge.svg\" alt=\"Open In Colab\"/></a>"
      ]
    },
    {
      "cell_type": "markdown",
      "source": [],
      "metadata": {
        "id": "GVXA5rToOKCS"
      }
    },
    {
      "cell_type": "markdown",
      "source": [
        "THIS IS THE CODE WHICH IS USING DYNAMIC ARRAY\n",
        "OPERATION USED IN THIS CODE IS -- CREATE , LEN , APPEND , PRINT , INDEXING , POP , CLEAR , FIND , INSERT , DELETE , REMOVE"
      ],
      "metadata": {
        "id": "yRwuksD6db15"
      }
    },
    {
      "cell_type": "code",
      "source": [
        "import ctypes\n",
        "class Meralist:\n",
        "  def __init__(self):\n",
        "    self.size = 1\n",
        "    self.n = 0\n",
        "    #creating a ctype array with size = self.size\n",
        "    self.A = self.__make_array(self.size)\n",
        "  def __len__(self):\n",
        "    return self.n\n",
        "  def __str__(self):\n",
        "    result = \"\"\n",
        "    for i in range(self.n):\n",
        "      result = result + str(self.A[i])  + \",\"\n",
        "    return '[' + result[:-1] + ']'\n",
        "  def __getitem__(self, index):\n",
        "    if 0 <=index < self.n:\n",
        "      return self.A[index]\n",
        "    else:\n",
        "      return \"IndexError: Index out of range\"\n",
        "  def __delitem__(self, pos):\n",
        "    if 0 <= pos < self.n:\n",
        "      for i in range(pos, self.n-1):\n",
        "        self.A[i] = self.A[i+1]\n",
        "        self.n = self.n - 1\n",
        "\n",
        "  def remove(self,item):\n",
        "    pos = self.find(item)\n",
        "    if type(pos) == int:\n",
        "      self.__delitem__(pos)\n",
        "    else:\n",
        "      return pos\n",
        "\n",
        "\n",
        "  def append(self , item):\n",
        "    if self.size == self.n:\n",
        "      self.__resize(self.size*2)\n",
        "    self.A[self.n]=item\n",
        "    self.n += 1\n",
        "\n",
        "\n",
        "  def pop(self):\n",
        "    if self.n == 0:\n",
        "      return \"empty list\"\n",
        "    print(self.A[self.n - 1])\n",
        "    self.n -= 1\n",
        "\n",
        "  def clear(self):\n",
        "      self.n = 0\n",
        "      self.size = 1\n",
        "\n",
        "  def find(self,item):\n",
        "      for i in range(self.n):\n",
        "        if self.A[i] == item:\n",
        "          return i\n",
        "      return \"value error: not in list\"\n",
        "\n",
        "  def insert(self, pos , item):\n",
        "      if self.n == self.size:\n",
        "        self.__resize(self.size*2)\n",
        "      for i in range(self.n,pos,-1):\n",
        "        self.A[i] = self.A[i-1]\n",
        "      self.A[pos] = item\n",
        "      self.n += 1\n",
        "\n",
        "\n",
        "\n",
        "      #resize\n",
        "  def __resize(self,new_capacity):\n",
        "    B = self.__make_array(new_capacity)\n",
        "    self.size = new_capacity\n",
        "    for i in range(self.n):\n",
        "      B[i] = self.A[i]\n",
        "    self.A = B\n",
        "  def __make_array(self,capacity):\n",
        "    return (capacity * ctypes.py_object)()"
      ],
      "metadata": {
        "id": "RX1vjZ47ONd3"
      },
      "execution_count": 7,
      "outputs": []
    },
    {
      "cell_type": "code",
      "source": [
        "l = Meralist()\n",
        "l.append(1)\n",
        "l.append(2)\n",
        "l.append(3)\n",
        "l.append(4)\n",
        "l.append(5)\n",
        "l.append(6)\n",
        "l.append(7)\n",
        "l.append(8)\n",
        "l.append(9)\n",
        "l.append(10)\n",
        "len(l)\n",
        "print(l)\n",
        "l[2]\n",
        "l.pop()\n",
        "print(l)\n",
        "l.clear()\n",
        "print(l)\n",
        "l.append(1)\n",
        "l.append(2)\n",
        "l.append(3)\n",
        "l.append(4)\n",
        "l.append(5)\n",
        "l.append(\"sumit\")\n",
        "l.append(\"anup\")\n",
        "print(l)\n",
        "l.find(2)\n",
        "l.insert(4,\"nandni\")\n",
        "print(l)\n",
        "del l[2]\n",
        "print(l)\n",
        "l.remove(2)"
      ],
      "metadata": {
        "colab": {
          "base_uri": "https://localhost:8080/"
        },
        "id": "ebzJAYizgEzy",
        "outputId": "0e03471a-a932-440e-8095-1b7e89963848"
      },
      "execution_count": 30,
      "outputs": [
        {
          "output_type": "stream",
          "name": "stdout",
          "text": [
            "[1,2,3,4,5,6,7,8,9,10]\n",
            "10\n",
            "[1,2,3,4,5,6,7,8,9]\n",
            "[]\n",
            "[1,2,3,4,5,sumit,anup]\n",
            "[1,2,3,4,nandni,5,sumit,anup]\n",
            "[1,2,4]\n"
          ]
        }
      ]
    },
    {
      "cell_type": "code",
      "source": [
        "print(l)"
      ],
      "metadata": {
        "colab": {
          "base_uri": "https://localhost:8080/"
        },
        "id": "vIkailRPH2oO",
        "outputId": "732d555b-b0ed-485b-bfbf-7c70990f7071"
      },
      "execution_count": 31,
      "outputs": [
        {
          "output_type": "stream",
          "name": "stdout",
          "text": [
            "[1,4]\n"
          ]
        }
      ]
    }
  ]
}